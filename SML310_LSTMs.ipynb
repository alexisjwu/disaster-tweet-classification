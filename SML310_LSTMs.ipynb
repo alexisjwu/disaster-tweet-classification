{
  "cells": [
    {
      "cell_type": "markdown",
      "metadata": {
        "id": "WHhoBPoKcB5D"
      },
      "source": [
        "# Text Classification: Natural Language Processing with Disaster Tweets"
      ]
    },
    {
      "cell_type": "markdown",
      "metadata": {
        "id": "Ng45dJHueOP_"
      },
      "source": [
        "## Part 1: Downloading the Dataset"
      ]
    },
    {
      "cell_type": "code",
      "execution_count": null,
      "metadata": {
        "id": "t5O7Hp59x-po"
      },
      "outputs": [],
      "source": [
        "import pandas as pd\n",
        "import numpy as np\n",
        "import seaborn as sns\n",
        "import matplotlib.pyplot as plt\n",
        "from datetime import datetime, timedelta"
      ]
    },
    {
      "cell_type": "code",
      "execution_count": null,
      "metadata": {
        "id": "s_gwSaT2b6RV"
      },
      "outputs": [],
      "source": [
        "# read csv data using pandas\n",
        "train_df = pd.read_csv('train.csv',            # make sure to put the file in the working directory\n",
        "                 sep=',',                      # separater\n",
        "                 header = 0,                   # the header that indicates the column names is at row 0\n",
        "                 usecols=['id','keyword', 'location', 'text', 'target'])"
      ]
    },
    {
      "cell_type": "markdown",
      "metadata": {
        "id": "xlZOC3KJa6K-"
      },
      "source": [
        "## Part 2: Data Preprocessing"
      ]
    },
    {
      "cell_type": "markdown",
      "metadata": {
        "id": "H2zrVumrpHSN"
      },
      "source": [
        "We'll first create text_target_train_data and text_target_test_data so that we have versions of the training and testing datasets that only have the text, and not the id, keyword, or location."
      ]
    },
    {
      "cell_type": "code",
      "execution_count": null,
      "metadata": {
        "id": "tLxTdFCfmIFu"
      },
      "outputs": [],
      "source": [
        "drop_cols = ['id', 'keyword', 'location']\n",
        "\n",
        "text_target_train_data = train_df.drop(drop_cols, axis = 1)"
      ]
    },
    {
      "cell_type": "markdown",
      "metadata": {
        "id": "-jCIC1ntpevz"
      },
      "source": [
        "Now, we use the nltk for removing stopwords, stemming, and deleting other common Twitter-specific elements (such as user tags and links)."
      ]
    },
    {
      "cell_type": "code",
      "execution_count": null,
      "metadata": {
        "colab": {
          "base_uri": "https://localhost:8080/"
        },
        "id": "VE2wZR-qngoG",
        "outputId": "b7c23a41-8043-48df-91ec-aa123bfcabde"
      },
      "outputs": [
        {
          "output_type": "stream",
          "name": "stderr",
          "text": [
            "[nltk_data] Downloading package stopwords to /root/nltk_data...\n",
            "[nltk_data]   Unzipping corpora/stopwords.zip.\n",
            "[nltk_data] Downloading package punkt to /root/nltk_data...\n",
            "[nltk_data]   Unzipping tokenizers/punkt.zip.\n"
          ]
        }
      ],
      "source": [
        "import nltk\n",
        "\n",
        "# For text cleaning\n",
        "nltk.download('stopwords')\n",
        "nltk.download('punkt')\n",
        "from nltk.corpus import stopwords\n",
        "from nltk.stem import SnowballStemmer\n",
        "from nltk.tokenize import RegexpTokenizer\n",
        "import string\n",
        "import re   # regular expressions\n",
        "\n",
        "# For LSTM\n",
        "from keras.preprocessing.sequence import pad_sequences\n",
        "from nltk.tokenize import word_tokenize\n",
        "from keras.preprocessing.text import Tokenizer"
      ]
    },
    {
      "cell_type": "markdown",
      "metadata": {
        "id": "1B3LfHrXgfhz"
      },
      "source": [
        "### Preprocessing the Text\n",
        "\n",
        "First, we remove all stopwords, punctuation user tags, html, links, and non-ASCII characters. We also stem and tokenize the text so that each Tweet becomes a list (text_only_train_data). Then, we preprocess the data once more so that we can convert all the Tweet text to sequences of integers as numerical representation for LSTM. Finally, we pad the sequences to a maximum fixed length to make sure that inputs have consistent shapes across batches when we use the Keras libraries."
      ]
    },
    {
      "cell_type": "code",
      "execution_count": null,
      "metadata": {
        "id": "Xksuqi0hoJkJ"
      },
      "outputs": [],
      "source": [
        "stopwords = stopwords.words('english')\n",
        "stemmer = SnowballStemmer('english')\n",
        "tokenizer = RegexpTokenizer(r'\\w+')\n",
        "\n",
        "# Given Twitter data, we also want to delete user tags and links\n",
        "tags = r'@\\w*'\n",
        "html = r'<.*?>'\n",
        "urls = r'https?://\\S+|www\\.\\S+'\n",
        "non_ascii_pattern = r'[^\\x00-\\x7F]'"
      ]
    },
    {
      "cell_type": "code",
      "execution_count": null,
      "metadata": {
        "id": "ZBsnZtoYi57Y"
      },
      "outputs": [],
      "source": [
        "def remove_punctuation(text):\n",
        "    translator = str.maketrans('', '', string.punctuation)\n",
        "    text = text.translate(translator)\n",
        "    return text"
      ]
    },
    {
      "cell_type": "code",
      "execution_count": null,
      "metadata": {
        "id": "jdbRCyV_nqvO"
      },
      "outputs": [],
      "source": [
        "def preprocess_text(sentence, stem=False):\n",
        "    s = re.sub(tags, \"\", sentence)\n",
        "    s = re.sub(html, \"\", s)\n",
        "    s = re.sub(urls, \"\", s)\n",
        "    s = [re.sub(non_ascii_pattern, \"\", s)]\n",
        "\n",
        "    sentence_cleaned = []\n",
        "\n",
        "    sentence = s[0]\n",
        "    punctuation_removed = remove_punctuation(sentence)\n",
        "\n",
        "    words = punctuation_removed.lower().split()\n",
        "\n",
        "    for word in words:\n",
        "        if word not in stopwords and not any(char.isdigit() for char in word):\n",
        "            if stem:\n",
        "                sentence_cleaned.append(stemmer.stem(word).lower())\n",
        "            else:\n",
        "                sentence_cleaned.append(word.lower())\n",
        "\n",
        "    return tokenizer.tokenize(\" \".join(sentence_cleaned))"
      ]
    },
    {
      "cell_type": "code",
      "execution_count": null,
      "metadata": {
        "id": "Zfav8Td4oiZO"
      },
      "outputs": [],
      "source": [
        "text_target_train_data.text = text_target_train_data.text.map(preprocess_text)"
      ]
    },
    {
      "cell_type": "code",
      "execution_count": null,
      "metadata": {
        "colab": {
          "base_uri": "https://localhost:8080/",
          "height": 424
        },
        "id": "fwU98h9XkYA2",
        "outputId": "5ab53827-0d51-4e7b-91cb-f0e7ceac96c3"
      },
      "outputs": [
        {
          "output_type": "execute_result",
          "data": {
            "text/plain": [
              "                                                   text  target\n",
              "0     [deeds, reason, earthquake, may, allah, forgiv...       1\n",
              "1         [forest, fire, near, la, ronge, sask, canada]       1\n",
              "2     [residents, asked, shelter, place, notified, o...       1\n",
              "3     [people, receive, wildfires, evacuation, order...       1\n",
              "4     [got, sent, photo, ruby, alaska, smoke, wildfi...       1\n",
              "...                                                 ...     ...\n",
              "7608  [two, giant, cranes, holding, bridge, collapse...       1\n",
              "7609  [control, wild, fires, california, even, north...       1\n",
              "7610                                  [volcano, hawaii]       1\n",
              "7611  [police, investigating, ebike, collided, car, ...       1\n",
              "7612  [latest, homes, razed, northern, california, w...       1\n",
              "\n",
              "[7613 rows x 2 columns]"
            ],
            "text/html": [
              "\n",
              "  <div id=\"df-76148a71-8063-4e12-9958-3cdf14f2f7c1\" class=\"colab-df-container\">\n",
              "    <div>\n",
              "<style scoped>\n",
              "    .dataframe tbody tr th:only-of-type {\n",
              "        vertical-align: middle;\n",
              "    }\n",
              "\n",
              "    .dataframe tbody tr th {\n",
              "        vertical-align: top;\n",
              "    }\n",
              "\n",
              "    .dataframe thead th {\n",
              "        text-align: right;\n",
              "    }\n",
              "</style>\n",
              "<table border=\"1\" class=\"dataframe\">\n",
              "  <thead>\n",
              "    <tr style=\"text-align: right;\">\n",
              "      <th></th>\n",
              "      <th>text</th>\n",
              "      <th>target</th>\n",
              "    </tr>\n",
              "  </thead>\n",
              "  <tbody>\n",
              "    <tr>\n",
              "      <th>0</th>\n",
              "      <td>[deeds, reason, earthquake, may, allah, forgiv...</td>\n",
              "      <td>1</td>\n",
              "    </tr>\n",
              "    <tr>\n",
              "      <th>1</th>\n",
              "      <td>[forest, fire, near, la, ronge, sask, canada]</td>\n",
              "      <td>1</td>\n",
              "    </tr>\n",
              "    <tr>\n",
              "      <th>2</th>\n",
              "      <td>[residents, asked, shelter, place, notified, o...</td>\n",
              "      <td>1</td>\n",
              "    </tr>\n",
              "    <tr>\n",
              "      <th>3</th>\n",
              "      <td>[people, receive, wildfires, evacuation, order...</td>\n",
              "      <td>1</td>\n",
              "    </tr>\n",
              "    <tr>\n",
              "      <th>4</th>\n",
              "      <td>[got, sent, photo, ruby, alaska, smoke, wildfi...</td>\n",
              "      <td>1</td>\n",
              "    </tr>\n",
              "    <tr>\n",
              "      <th>...</th>\n",
              "      <td>...</td>\n",
              "      <td>...</td>\n",
              "    </tr>\n",
              "    <tr>\n",
              "      <th>7608</th>\n",
              "      <td>[two, giant, cranes, holding, bridge, collapse...</td>\n",
              "      <td>1</td>\n",
              "    </tr>\n",
              "    <tr>\n",
              "      <th>7609</th>\n",
              "      <td>[control, wild, fires, california, even, north...</td>\n",
              "      <td>1</td>\n",
              "    </tr>\n",
              "    <tr>\n",
              "      <th>7610</th>\n",
              "      <td>[volcano, hawaii]</td>\n",
              "      <td>1</td>\n",
              "    </tr>\n",
              "    <tr>\n",
              "      <th>7611</th>\n",
              "      <td>[police, investigating, ebike, collided, car, ...</td>\n",
              "      <td>1</td>\n",
              "    </tr>\n",
              "    <tr>\n",
              "      <th>7612</th>\n",
              "      <td>[latest, homes, razed, northern, california, w...</td>\n",
              "      <td>1</td>\n",
              "    </tr>\n",
              "  </tbody>\n",
              "</table>\n",
              "<p>7613 rows × 2 columns</p>\n",
              "</div>\n",
              "    <div class=\"colab-df-buttons\">\n",
              "\n",
              "  <div class=\"colab-df-container\">\n",
              "    <button class=\"colab-df-convert\" onclick=\"convertToInteractive('df-76148a71-8063-4e12-9958-3cdf14f2f7c1')\"\n",
              "            title=\"Convert this dataframe to an interactive table.\"\n",
              "            style=\"display:none;\">\n",
              "\n",
              "  <svg xmlns=\"http://www.w3.org/2000/svg\" height=\"24px\" viewBox=\"0 -960 960 960\">\n",
              "    <path d=\"M120-120v-720h720v720H120Zm60-500h600v-160H180v160Zm220 220h160v-160H400v160Zm0 220h160v-160H400v160ZM180-400h160v-160H180v160Zm440 0h160v-160H620v160ZM180-180h160v-160H180v160Zm440 0h160v-160H620v160Z\"/>\n",
              "  </svg>\n",
              "    </button>\n",
              "\n",
              "  <style>\n",
              "    .colab-df-container {\n",
              "      display:flex;\n",
              "      gap: 12px;\n",
              "    }\n",
              "\n",
              "    .colab-df-convert {\n",
              "      background-color: #E8F0FE;\n",
              "      border: none;\n",
              "      border-radius: 50%;\n",
              "      cursor: pointer;\n",
              "      display: none;\n",
              "      fill: #1967D2;\n",
              "      height: 32px;\n",
              "      padding: 0 0 0 0;\n",
              "      width: 32px;\n",
              "    }\n",
              "\n",
              "    .colab-df-convert:hover {\n",
              "      background-color: #E2EBFA;\n",
              "      box-shadow: 0px 1px 2px rgba(60, 64, 67, 0.3), 0px 1px 3px 1px rgba(60, 64, 67, 0.15);\n",
              "      fill: #174EA6;\n",
              "    }\n",
              "\n",
              "    .colab-df-buttons div {\n",
              "      margin-bottom: 4px;\n",
              "    }\n",
              "\n",
              "    [theme=dark] .colab-df-convert {\n",
              "      background-color: #3B4455;\n",
              "      fill: #D2E3FC;\n",
              "    }\n",
              "\n",
              "    [theme=dark] .colab-df-convert:hover {\n",
              "      background-color: #434B5C;\n",
              "      box-shadow: 0px 1px 3px 1px rgba(0, 0, 0, 0.15);\n",
              "      filter: drop-shadow(0px 1px 2px rgba(0, 0, 0, 0.3));\n",
              "      fill: #FFFFFF;\n",
              "    }\n",
              "  </style>\n",
              "\n",
              "    <script>\n",
              "      const buttonEl =\n",
              "        document.querySelector('#df-76148a71-8063-4e12-9958-3cdf14f2f7c1 button.colab-df-convert');\n",
              "      buttonEl.style.display =\n",
              "        google.colab.kernel.accessAllowed ? 'block' : 'none';\n",
              "\n",
              "      async function convertToInteractive(key) {\n",
              "        const element = document.querySelector('#df-76148a71-8063-4e12-9958-3cdf14f2f7c1');\n",
              "        const dataTable =\n",
              "          await google.colab.kernel.invokeFunction('convertToInteractive',\n",
              "                                                    [key], {});\n",
              "        if (!dataTable) return;\n",
              "\n",
              "        const docLinkHtml = 'Like what you see? Visit the ' +\n",
              "          '<a target=\"_blank\" href=https://colab.research.google.com/notebooks/data_table.ipynb>data table notebook</a>'\n",
              "          + ' to learn more about interactive tables.';\n",
              "        element.innerHTML = '';\n",
              "        dataTable['output_type'] = 'display_data';\n",
              "        await google.colab.output.renderOutput(dataTable, element);\n",
              "        const docLink = document.createElement('div');\n",
              "        docLink.innerHTML = docLinkHtml;\n",
              "        element.appendChild(docLink);\n",
              "      }\n",
              "    </script>\n",
              "  </div>\n",
              "\n",
              "\n",
              "<div id=\"df-62994c4c-e0ba-4b41-8af8-4187d255aa65\">\n",
              "  <button class=\"colab-df-quickchart\" onclick=\"quickchart('df-62994c4c-e0ba-4b41-8af8-4187d255aa65')\"\n",
              "            title=\"Suggest charts\"\n",
              "            style=\"display:none;\">\n",
              "\n",
              "<svg xmlns=\"http://www.w3.org/2000/svg\" height=\"24px\"viewBox=\"0 0 24 24\"\n",
              "     width=\"24px\">\n",
              "    <g>\n",
              "        <path d=\"M19 3H5c-1.1 0-2 .9-2 2v14c0 1.1.9 2 2 2h14c1.1 0 2-.9 2-2V5c0-1.1-.9-2-2-2zM9 17H7v-7h2v7zm4 0h-2V7h2v10zm4 0h-2v-4h2v4z\"/>\n",
              "    </g>\n",
              "</svg>\n",
              "  </button>\n",
              "\n",
              "<style>\n",
              "  .colab-df-quickchart {\n",
              "      --bg-color: #E8F0FE;\n",
              "      --fill-color: #1967D2;\n",
              "      --hover-bg-color: #E2EBFA;\n",
              "      --hover-fill-color: #174EA6;\n",
              "      --disabled-fill-color: #AAA;\n",
              "      --disabled-bg-color: #DDD;\n",
              "  }\n",
              "\n",
              "  [theme=dark] .colab-df-quickchart {\n",
              "      --bg-color: #3B4455;\n",
              "      --fill-color: #D2E3FC;\n",
              "      --hover-bg-color: #434B5C;\n",
              "      --hover-fill-color: #FFFFFF;\n",
              "      --disabled-bg-color: #3B4455;\n",
              "      --disabled-fill-color: #666;\n",
              "  }\n",
              "\n",
              "  .colab-df-quickchart {\n",
              "    background-color: var(--bg-color);\n",
              "    border: none;\n",
              "    border-radius: 50%;\n",
              "    cursor: pointer;\n",
              "    display: none;\n",
              "    fill: var(--fill-color);\n",
              "    height: 32px;\n",
              "    padding: 0;\n",
              "    width: 32px;\n",
              "  }\n",
              "\n",
              "  .colab-df-quickchart:hover {\n",
              "    background-color: var(--hover-bg-color);\n",
              "    box-shadow: 0 1px 2px rgba(60, 64, 67, 0.3), 0 1px 3px 1px rgba(60, 64, 67, 0.15);\n",
              "    fill: var(--button-hover-fill-color);\n",
              "  }\n",
              "\n",
              "  .colab-df-quickchart-complete:disabled,\n",
              "  .colab-df-quickchart-complete:disabled:hover {\n",
              "    background-color: var(--disabled-bg-color);\n",
              "    fill: var(--disabled-fill-color);\n",
              "    box-shadow: none;\n",
              "  }\n",
              "\n",
              "  .colab-df-spinner {\n",
              "    border: 2px solid var(--fill-color);\n",
              "    border-color: transparent;\n",
              "    border-bottom-color: var(--fill-color);\n",
              "    animation:\n",
              "      spin 1s steps(1) infinite;\n",
              "  }\n",
              "\n",
              "  @keyframes spin {\n",
              "    0% {\n",
              "      border-color: transparent;\n",
              "      border-bottom-color: var(--fill-color);\n",
              "      border-left-color: var(--fill-color);\n",
              "    }\n",
              "    20% {\n",
              "      border-color: transparent;\n",
              "      border-left-color: var(--fill-color);\n",
              "      border-top-color: var(--fill-color);\n",
              "    }\n",
              "    30% {\n",
              "      border-color: transparent;\n",
              "      border-left-color: var(--fill-color);\n",
              "      border-top-color: var(--fill-color);\n",
              "      border-right-color: var(--fill-color);\n",
              "    }\n",
              "    40% {\n",
              "      border-color: transparent;\n",
              "      border-right-color: var(--fill-color);\n",
              "      border-top-color: var(--fill-color);\n",
              "    }\n",
              "    60% {\n",
              "      border-color: transparent;\n",
              "      border-right-color: var(--fill-color);\n",
              "    }\n",
              "    80% {\n",
              "      border-color: transparent;\n",
              "      border-right-color: var(--fill-color);\n",
              "      border-bottom-color: var(--fill-color);\n",
              "    }\n",
              "    90% {\n",
              "      border-color: transparent;\n",
              "      border-bottom-color: var(--fill-color);\n",
              "    }\n",
              "  }\n",
              "</style>\n",
              "\n",
              "  <script>\n",
              "    async function quickchart(key) {\n",
              "      const quickchartButtonEl =\n",
              "        document.querySelector('#' + key + ' button');\n",
              "      quickchartButtonEl.disabled = true;  // To prevent multiple clicks.\n",
              "      quickchartButtonEl.classList.add('colab-df-spinner');\n",
              "      try {\n",
              "        const charts = await google.colab.kernel.invokeFunction(\n",
              "            'suggestCharts', [key], {});\n",
              "      } catch (error) {\n",
              "        console.error('Error during call to suggestCharts:', error);\n",
              "      }\n",
              "      quickchartButtonEl.classList.remove('colab-df-spinner');\n",
              "      quickchartButtonEl.classList.add('colab-df-quickchart-complete');\n",
              "    }\n",
              "    (() => {\n",
              "      let quickchartButtonEl =\n",
              "        document.querySelector('#df-62994c4c-e0ba-4b41-8af8-4187d255aa65 button');\n",
              "      quickchartButtonEl.style.display =\n",
              "        google.colab.kernel.accessAllowed ? 'block' : 'none';\n",
              "    })();\n",
              "  </script>\n",
              "</div>\n",
              "    </div>\n",
              "  </div>\n"
            ],
            "application/vnd.google.colaboratory.intrinsic+json": {
              "type": "dataframe",
              "variable_name": "text_target_train_data",
              "summary": "{\n  \"name\": \"text_target_train_data\",\n  \"rows\": 7613,\n  \"fields\": [\n    {\n      \"column\": \"text\",\n      \"properties\": {\n        \"dtype\": \"object\",\n        \"semantic_type\": \"\",\n        \"description\": \"\"\n      }\n    },\n    {\n      \"column\": \"target\",\n      \"properties\": {\n        \"dtype\": \"number\",\n        \"std\": 0,\n        \"min\": 0,\n        \"max\": 1,\n        \"num_unique_values\": 2,\n        \"samples\": [\n          0,\n          1\n        ],\n        \"semantic_type\": \"\",\n        \"description\": \"\"\n      }\n    }\n  ]\n}"
            }
          },
          "metadata": {},
          "execution_count": 11
        }
      ],
      "source": [
        "text_target_train_data"
      ]
    },
    {
      "cell_type": "code",
      "execution_count": null,
      "metadata": {
        "id": "XytHvKq7WOFH"
      },
      "outputs": [],
      "source": [
        "# Extract text data from the 'text' column\n",
        "text_data_train = text_target_train_data['text'].apply(lambda x: ' '.join(x))\n",
        "\n",
        "text_only_train_data = text_data_train.tolist()"
      ]
    },
    {
      "cell_type": "code",
      "execution_count": null,
      "metadata": {
        "id": "Wy5_BryOWo-R"
      },
      "outputs": [],
      "source": [
        "keras_tokenizer = Tokenizer()\n",
        "keras_tokenizer.fit_on_texts(text_only_train_data)\n",
        "\n",
        "# Convert texts to sequences of integers as numerical representation for LSTM\n",
        "sequences = keras_tokenizer.texts_to_sequences(text_only_train_data)"
      ]
    },
    {
      "cell_type": "code",
      "execution_count": null,
      "metadata": {
        "colab": {
          "base_uri": "https://localhost:8080/"
        },
        "id": "ORlfYFCTIX4J",
        "outputId": "86080f49-4b85-46f7-8c23-bd87ed226b90"
      },
      "outputs": [
        {
          "output_type": "stream",
          "name": "stdout",
          "text": [
            "[[4115  691  146 ...    0    0    0]\n",
            " [  94    4  125 ...    0    0    0]\n",
            " [1520 1403 1895 ...    0    0    0]\n",
            " ...\n",
            " [ 468 1391    0 ...    0    0    0]\n",
            " [  16  958 2891 ...    0    0    0]\n",
            " [ 111  107  399 ...    0    0    0]]\n"
          ]
        }
      ],
      "source": [
        "# Pad sequences to the same length for LSTMs\n",
        "train_longest = max(text_only_train_data, key=lambda sentence: len(word_tokenize(sentence)))\n",
        "sentence_length = len(word_tokenize(train_longest))\n",
        "\n",
        "padded_sequences = pad_sequences(sequences, sentence_length, padding='post')\n",
        "print(padded_sequences)"
      ]
    },
    {
      "cell_type": "markdown",
      "metadata": {
        "id": "VQ-WfN8XdbJJ"
      },
      "source": [
        "## Part 3: Embedding Layer Setup\n",
        "\n",
        "We can use lower dimension representations with GloVe, which will also be a much less expensive process if we use Word2Vec or GloVe pretrained word embeddings. We will use the GloVe Twitter word embeddings to map the words from our vocabulary above to their corresponding word embeddings. Then, we prepare an embedding matrix to store the weights for the embedding layer.\n"
      ]
    },
    {
      "cell_type": "code",
      "execution_count": null,
      "metadata": {
        "id": "yi_dHHJYa3lm"
      },
      "outputs": [],
      "source": [
        "import gensim.downloader"
      ]
    },
    {
      "cell_type": "code",
      "execution_count": null,
      "metadata": {
        "colab": {
          "base_uri": "https://localhost:8080/"
        },
        "id": "BXoKlYFIdfW6",
        "outputId": "ce8caaea-17e3-423b-e00e-e659f7e9e00b"
      },
      "outputs": [
        {
          "output_type": "stream",
          "name": "stdout",
          "text": [
            "['fasttext-wiki-news-subwords-300', 'conceptnet-numberbatch-17-06-300', 'word2vec-ruscorpora-300', 'word2vec-google-news-300', 'glove-wiki-gigaword-50', 'glove-wiki-gigaword-100', 'glove-wiki-gigaword-200', 'glove-wiki-gigaword-300', 'glove-twitter-25', 'glove-twitter-50', 'glove-twitter-100', 'glove-twitter-200', '__testing_word2vec-matrix-synopsis']\n"
          ]
        }
      ],
      "source": [
        "print(list(gensim.downloader.info()['models'].keys()))"
      ]
    },
    {
      "cell_type": "code",
      "execution_count": null,
      "metadata": {
        "id": "z2_EH9mllkB8",
        "colab": {
          "base_uri": "https://localhost:8080/"
        },
        "outputId": "1400810f-645c-4d6a-8be8-bbe16618ce7a"
      },
      "outputs": [
        {
          "output_type": "stream",
          "name": "stdout",
          "text": [
            "[==================================================] 100.0% 758.5/758.5MB downloaded\n"
          ]
        }
      ],
      "source": [
        "# Typically takes 11 min to finish running\n",
        "glove_vectors = gensim.downloader.load('glove-twitter-200')"
      ]
    },
    {
      "cell_type": "code",
      "execution_count": null,
      "metadata": {
        "id": "8WGUZxGNqvWn",
        "colab": {
          "base_uri": "https://localhost:8080/"
        },
        "outputId": "5557c595-634d-46b6-928d-7dbc48a20699"
      },
      "outputs": [
        {
          "output_type": "execute_result",
          "data": {
            "text/plain": [
              "[('quake', 0.7894846796989441),\n",
              " ('magnitude', 0.7282036542892456),\n",
              " ('earthquakes', 0.6092606782913208),\n",
              " ('tsunami', 0.5481699705123901),\n",
              " ('explosion', 0.5397258400917053),\n",
              " ('tornado', 0.5383382439613342),\n",
              " ('hurricane', 0.5338568687438965),\n",
              " ('usgs', 0.5126712918281555),\n",
              " ('coast', 0.49841058254241943),\n",
              " ('storm', 0.49443164467811584)]"
            ]
          },
          "metadata": {},
          "execution_count": 18
        }
      ],
      "source": [
        "glove_vectors.most_similar('earthquake')"
      ]
    },
    {
      "cell_type": "markdown",
      "metadata": {
        "id": "YBMOM63ItPLk"
      },
      "source": [
        "Note how the words that are most similar to earthquake make sense: there are words closely related to earthquakes, including \"magnitude,\" \"tsunami,\" \"explosion,\" and so on."
      ]
    },
    {
      "cell_type": "code",
      "execution_count": null,
      "metadata": {
        "id": "Fo3WnzwDRE8J"
      },
      "outputs": [],
      "source": [
        "vocab_length = len(keras_tokenizer.word_index) + 1"
      ]
    },
    {
      "cell_type": "code",
      "execution_count": null,
      "metadata": {
        "id": "U5XiPOYoMzn2"
      },
      "outputs": [],
      "source": [
        "embedding_dim = 200\n",
        "\n",
        "embedding_matrix = np.zeros((vocab_length, embedding_dim))\n",
        "\n",
        "for word, index in keras_tokenizer.word_index.items():\n",
        "    # For words not found in glove_vectors, leave embedding_matrix[index] as zero\n",
        "    try:\n",
        "        embedding_vector = glove_vectors[word]\n",
        "        embedding_matrix[index] = embedding_vector\n",
        "    except KeyError:\n",
        "        pass"
      ]
    },
    {
      "cell_type": "code",
      "execution_count": null,
      "metadata": {
        "id": "A2V6yD5AP2_b",
        "colab": {
          "base_uri": "https://localhost:8080/"
        },
        "outputId": "c22f0e80-ccad-446b-b0eb-55cc536f7465"
      },
      "outputs": [
        {
          "output_type": "execute_result",
          "data": {
            "text/plain": [
              "array([[ 0.        ,  0.        ,  0.        , ...,  0.        ,\n",
              "         0.        ,  0.        ],\n",
              "       [-0.015537  ,  0.11158   , -0.23599   , ..., -0.037577  ,\n",
              "        -0.13539   ,  0.45965001],\n",
              "       [-0.24256   ,  0.20028   , -0.49502   , ...,  0.50089997,\n",
              "        -0.1241    ,  0.10412   ],\n",
              "       ...,\n",
              "       [-0.56013   ,  0.26482999,  0.47959   , ...,  0.39513999,\n",
              "         0.75584   , -0.65382999],\n",
              "       [ 0.13251001, -0.28165999,  0.088069  , ...,  0.72741997,\n",
              "         0.86183   ,  0.046106  ],\n",
              "       [ 0.47209001, -0.21304999,  0.053563  , ...,  1.10819995,\n",
              "         0.21586999, -0.32132   ]])"
            ]
          },
          "metadata": {},
          "execution_count": 21
        }
      ],
      "source": [
        "embedding_matrix"
      ]
    },
    {
      "cell_type": "markdown",
      "metadata": {
        "id": "bgW_oR6FP8nW"
      },
      "source": [
        "## Part 4: Training the LSTM"
      ]
    },
    {
      "cell_type": "code",
      "execution_count": null,
      "metadata": {
        "id": "UGSEEPW3bPGN"
      },
      "outputs": [],
      "source": [
        "from sklearn.model_selection import train_test_split\n",
        "\n",
        "from keras.models import Sequential\n",
        "from keras.layers import (LSTM,\n",
        "                          Embedding,\n",
        "                          BatchNormalization,\n",
        "                          Dense,\n",
        "                          TimeDistributed,\n",
        "                          Dropout,\n",
        "                          Bidirectional,\n",
        "                          Flatten,\n",
        "                          GlobalMaxPool1D)\n",
        "from keras.callbacks import ModelCheckpoint, ReduceLROnPlateau"
      ]
    },
    {
      "cell_type": "code",
      "execution_count": null,
      "metadata": {
        "id": "DzfowAHUbNeT"
      },
      "outputs": [],
      "source": [
        "y_train = text_target_train_data['target']\n",
        "\n",
        "X_train, X_val, y_train, y_val = train_test_split(padded_sequences, y_train, test_size=0.25)"
      ]
    },
    {
      "cell_type": "code",
      "execution_count": null,
      "metadata": {
        "id": "F4RHO5nERCc4"
      },
      "outputs": [],
      "source": [
        "# Define values for layers!\n",
        "input_dim = embedding_matrix.shape[0]\n",
        "output_dim = embedding_matrix.shape[1]\n",
        "weights = [embedding_matrix]"
      ]
    },
    {
      "cell_type": "code",
      "execution_count": null,
      "metadata": {
        "id": "VOkz_sOrWRL4"
      },
      "outputs": [],
      "source": [
        "def plot_learning_curves(results, arr):\n",
        "    plt.figure(figsize=(6, 4))  # Set the figure size\n",
        "\n",
        "    for i in range(len(arr)):\n",
        "        plt.plot(results.history[arr[i][0]], label=arr[i][0])\n",
        "        plt.plot(results.history[arr[i][1]], label=arr[i][1])\n",
        "\n",
        "    plt.xlabel('Number of Epochs', fontsize=10)\n",
        "    plt.ylabel('Percentage', fontsize=10)\n",
        "    plt.title('Training and Validation Accuracy', fontsize=12)\n",
        "    plt.legend(fontsize=10)\n",
        "    plt.ylim(0, 1)\n",
        "    plt.show()"
      ]
    },
    {
      "cell_type": "code",
      "execution_count": null,
      "metadata": {
        "id": "q3PuEq6SQxGH"
      },
      "outputs": [],
      "source": [
        "def basic_lstm():\n",
        "    model = Sequential()\n",
        "    model.add(Embedding(input_dim=input_dim, output_dim=output_dim, weights=weights, input_length=sentence_length))\n",
        "    model.add(Bidirectional(LSTM(units=sentence_length)))\n",
        "    model.add(Dense(units=1, activation = \"relu\"))\n",
        "\n",
        "    model.compile(optimizer='adam', loss='binary_crossentropy', metrics=['accuracy'])\n",
        "\n",
        "    return model"
      ]
    },
    {
      "cell_type": "code",
      "execution_count": null,
      "metadata": {
        "id": "Uq7ylRFgTCJ9",
        "colab": {
          "base_uri": "https://localhost:8080/"
        },
        "outputId": "241c343d-f8b4-4272-ff13-e123d4f72c9d"
      },
      "outputs": [
        {
          "output_type": "stream",
          "name": "stdout",
          "text": [
            "Epoch 1/10\n",
            "179/179 [==============================] - 19s 83ms/step - loss: 0.5814 - accuracy: 0.7516 - val_loss: 0.5325 - val_accuracy: 0.7547\n",
            "Epoch 2/10\n",
            "179/179 [==============================] - 14s 78ms/step - loss: 0.4582 - accuracy: 0.8252 - val_loss: 0.8035 - val_accuracy: 0.7206\n",
            "Epoch 3/10\n",
            "179/179 [==============================] - 14s 77ms/step - loss: 0.4458 - accuracy: 0.8231 - val_loss: 0.5652 - val_accuracy: 0.7946\n",
            "Epoch 4/10\n",
            "179/179 [==============================] - 13s 75ms/step - loss: 0.3009 - accuracy: 0.8961 - val_loss: 0.7209 - val_accuracy: 0.8083\n",
            "Epoch 5/10\n",
            "179/179 [==============================] - 14s 77ms/step - loss: 0.2328 - accuracy: 0.9235 - val_loss: 0.8885 - val_accuracy: 0.8072\n",
            "Epoch 6/10\n",
            "179/179 [==============================] - 14s 78ms/step - loss: 0.1844 - accuracy: 0.9457 - val_loss: 1.0329 - val_accuracy: 0.8030\n",
            "Epoch 7/10\n",
            "179/179 [==============================] - 14s 77ms/step - loss: 0.1542 - accuracy: 0.9571 - val_loss: 1.1498 - val_accuracy: 0.7957\n",
            "Epoch 8/10\n",
            "179/179 [==============================] - 14s 79ms/step - loss: 0.1346 - accuracy: 0.9669 - val_loss: 1.3001 - val_accuracy: 0.7941\n",
            "Epoch 9/10\n",
            "179/179 [==============================] - 15s 82ms/step - loss: 0.1169 - accuracy: 0.9704 - val_loss: 1.3784 - val_accuracy: 0.7883\n",
            "Epoch 10/10\n",
            "179/179 [==============================] - 15s 81ms/step - loss: 0.1070 - accuracy: 0.9728 - val_loss: 1.3800 - val_accuracy: 0.7841\n"
          ]
        }
      ],
      "source": [
        "basic_model = basic_lstm()\n",
        "basic_model_results = basic_model.fit(X_train, y_train, epochs = 10, batch_size = 32, validation_data = (X_val, y_val), verbose = 1)"
      ]
    },
    {
      "cell_type": "code",
      "execution_count": null,
      "metadata": {
        "id": "3pEkSBF7Zzbu",
        "colab": {
          "base_uri": "https://localhost:8080/",
          "height": 410
        },
        "outputId": "ef4f777d-b71c-4822-e7fb-ca16884ad9b3"
      },
      "outputs": [
        {
          "output_type": "display_data",
          "data": {
            "text/plain": [
              "<Figure size 600x400 with 1 Axes>"
            ],
            "image/png": "[encoded data removed]"
          },
          "metadata": {}
        }
      ],
      "source": [
        "plot_learning_curves(basic_model_results, [['accuracy', 'val_accuracy']])"
      ]
    },
    {
      "cell_type": "markdown",
      "metadata": {
        "id": "N6b9lYCy61Q7"
      },
      "source": [
        "We can see that this model is experiencing high validation loss. Let's introduce a second bidirectional LSTM layer and additional activation layers."
      ]
    },
    {
      "cell_type": "code",
      "execution_count": null,
      "metadata": {
        "id": "5eJ0QH4bmf1Q"
      },
      "outputs": [],
      "source": [
        "def two_lstm_layers():\n",
        "    model = Sequential()\n",
        "    model.add(Embedding(input_dim=input_dim, output_dim=output_dim, weights=weights, input_length=sentence_length))\n",
        "    model.add(Bidirectional(LSTM(units=128, return_sequences=True)))\n",
        "    model.add(Dropout(0.5))   # Add regularization to ensure we aren't overfitting\n",
        "    model.add(Bidirectional(LSTM(units=64)))\n",
        "    model.add(Dense(units=32, activation='relu'))\n",
        "    model.add(Dropout(0.5))\n",
        "    model.add(Dense(units=1, activation='sigmoid'))\n",
        "\n",
        "    model.compile(optimizer='adam', loss='binary_crossentropy', metrics=['accuracy'])\n",
        "\n",
        "    return model"
      ]
    },
    {
      "cell_type": "code",
      "execution_count": null,
      "metadata": {
        "id": "NOFuj7b0nOyF",
        "colab": {
          "base_uri": "https://localhost:8080/"
        },
        "outputId": "0229ad51-d530-4f5e-9900-5c2765d61889"
      },
      "outputs": [
        {
          "output_type": "stream",
          "name": "stdout",
          "text": [
            "Epoch 1/8\n",
            "179/179 [==============================] - 59s 282ms/step - loss: 0.4813 - accuracy: 0.7951 - val_loss: 0.4192 - val_accuracy: 0.8067\n",
            "Epoch 2/8\n",
            "179/179 [==============================] - 43s 242ms/step - loss: 0.3708 - accuracy: 0.8527 - val_loss: 0.4375 - val_accuracy: 0.8141\n",
            "Epoch 3/8\n",
            "179/179 [==============================] - 49s 272ms/step - loss: 0.2666 - accuracy: 0.8953 - val_loss: 0.5208 - val_accuracy: 0.7967\n",
            "Epoch 4/8\n",
            "179/179 [==============================] - 42s 235ms/step - loss: 0.1763 - accuracy: 0.9347 - val_loss: 0.5781 - val_accuracy: 0.8009\n",
            "Epoch 5/8\n",
            "179/179 [==============================] - 44s 248ms/step - loss: 0.1205 - accuracy: 0.9580 - val_loss: 0.6764 - val_accuracy: 0.7852\n",
            "Epoch 6/8\n",
            "179/179 [==============================] - 42s 235ms/step - loss: 0.0951 - accuracy: 0.9641 - val_loss: 0.7783 - val_accuracy: 0.7967\n",
            "Epoch 7/8\n",
            "179/179 [==============================] - 46s 258ms/step - loss: 0.0690 - accuracy: 0.9728 - val_loss: 0.9532 - val_accuracy: 0.7931\n",
            "Epoch 8/8\n",
            "179/179 [==============================] - 45s 249ms/step - loss: 0.0558 - accuracy: 0.9744 - val_loss: 1.2327 - val_accuracy: 0.7705\n"
          ]
        }
      ],
      "source": [
        "two_lstm_layered_model = two_lstm_layers()\n",
        "two_lstm_results = two_lstm_layered_model.fit(X_train, y_train, epochs = 8, batch_size = 32, validation_data = (X_val, y_val), verbose = 1)"
      ]
    },
    {
      "cell_type": "code",
      "execution_count": null,
      "metadata": {
        "id": "OeAsD5Q0aTmF",
        "colab": {
          "base_uri": "https://localhost:8080/",
          "height": 410
        },
        "outputId": "b62b44aa-c094-4d2c-a76a-613b671cee6b"
      },
      "outputs": [
        {
          "output_type": "display_data",
          "data": {
            "text/plain": [
              "<Figure size 600x400 with 1 Axes>"
            ],
            "image/png": "[encoded data removed]"
          },
          "metadata": {}
        }
      ],
      "source": [
        "plot_learning_curves(two_lstm_results, [['accuracy', 'val_accuracy']])"
      ]
    }
  ],
  "metadata": {
    "colab": {
      "provenance": []
    },
    "kernelspec": {
      "display_name": "Python 3",
      "name": "python3"
    },
    "language_info": {
      "name": "python"
    }
  },
  "nbformat": 4,
  "nbformat_minor": 0
}